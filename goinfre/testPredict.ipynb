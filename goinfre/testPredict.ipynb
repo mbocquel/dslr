{
 "cells": [
  {
   "cell_type": "code",
   "execution_count": 1,
   "id": "bcb116be-c232-4a82-88a3-87c993c11c9a",
   "metadata": {},
   "outputs": [],
   "source": [
    "import pandas as pd\n",
    "import matplotlib.pyplot as plt\n",
    "import numpy as np\n",
    "from tqdm import tqdm\n",
    "from sys import argv"
   ]
  },
  {
   "cell_type": "code",
   "execution_count": 2,
   "id": "034d3571",
   "metadata": {},
   "outputs": [],
   "source": [
    "def describe(df):\n",
    "    \"\"\"\n",
    "    Program that describe a dataset.\n",
    "    \"\"\"\n",
    "    dfNum = df.select_dtypes(include=['int64','float64'])\n",
    "    stats = pd.DataFrame(columns=dfNum.columns)\n",
    "    col_name=stats.columns\n",
    "    for i in range (len(stats.columns)):\n",
    "        col = df.loc[:, col_name[i]]\n",
    "        col_allNum = df.loc[~col.isna(), col_name[i]]\n",
    "        count = len(col_allNum)\n",
    "        mean = sum(col_allNum) / len(col_allNum)\n",
    "        var =  sum([(x - mean)**2 for x in col_allNum])/count\n",
    "        std = var**(0.5)\n",
    "        stats.loc['Mean', col_name[i]] = mean\n",
    "        stats.loc['Std', col_name[i]] = std\n",
    "    return stats"
   ]
  },
  {
   "cell_type": "code",
   "execution_count": 3,
   "id": "56dfdbf0",
   "metadata": {},
   "outputs": [],
   "source": [
    "def normalize_value(df):\n",
    "    dfNum = df.select_dtypes(include=['int64','float64'])\n",
    "    stats = describe(dfNum)\n",
    "    dfN = df.copy()\n",
    "    for i in range(len(dfNum.columns)):\n",
    "        mean = stats.loc[\"Mean\", dfNum.columns[i]]\n",
    "        std = stats.loc[\"Std\", dfNum.columns[i]]\n",
    "        dfN.loc[:, dfNum.columns[i]] = (dfN.loc[:, dfNum.columns[i]] - mean) / std\n",
    "    return dfN\n"
   ]
  },
  {
   "cell_type": "code",
   "execution_count": 4,
   "id": "fd72d1ad",
   "metadata": {},
   "outputs": [],
   "source": [
    "def computeCost(X, y, W, b, lambda_ = 1):\n",
    "    \"\"\"\n",
    "    X (ndarray (m,n): Data, m examples with n features\n",
    "    y (ndarray (m,)): target values\n",
    "    w (ndarray (n,)): model parameters\n",
    "    b (scalar)      : model parameter\n",
    "    lambda_ (scalar): Controls amount of regularization\n",
    "    Returns:\n",
    "        cost (scalar):  cost\n",
    "    \"\"\"\n",
    "    m, n = X.shape\n",
    "    cost = 0\n",
    "    for i in range(m):\n",
    "        z = np.dot(W, X.iloc[i].values) + b\n",
    "        f_wb = 1 / (1 + np.exp(-z))\n",
    "        cost += -y.iloc[i].item() * np.log(f_wb) - (1 - y.iloc[i].item())*np.log(1-f_wb)\n",
    "    cost = cost / m\n",
    "    reg_part = 0\n",
    "    for i in range(n):\n",
    "        reg_part += W[i]**2\n",
    "    cost = cost + (lambda_ / (2*m)) * reg_part\n",
    "    return cost"
   ]
  },
  {
   "cell_type": "code",
   "execution_count": 5,
   "id": "87bb11cd",
   "metadata": {},
   "outputs": [],
   "source": [
    "def updateWb(X, y_slytherin, y_ravenclaw, y_gryffindor, y_hufflepuff, w, b, lambda_, alpha):\n",
    "    m, n = X.shape\n",
    "    dj_dw = pd.DataFrame(columns=X.columns,\n",
    "                     index=[\"Slytherin\", \"Ravenclaw\", \"Gryffindor\", \"Hufflepuff\"], data=0.0)\n",
    "    dj_db = pd.DataFrame(columns=[\"b\"],\n",
    "                     index=[\"Slytherin\", \"Ravenclaw\", \"Gryffindor\", \"Hufflepuff\"], data=0.0)\n",
    "    for i in range(m):\n",
    "        z_slytherin = np.dot(X.iloc[i].values, w.loc[\"Slytherin\", :].values) + b.loc[\"Slytherin\", \"b\"].item()\n",
    "        f_wb_i_slytherin = 1 / (1 + np.exp(-z_slytherin))\n",
    "        err_i_slytherin  = f_wb_i_slytherin  - y_slytherin.iloc[i].item()\n",
    "\n",
    "        z_ravenclaw = np.dot(X.iloc[i].values, w.loc[\"Ravenclaw\", :].values) + b.loc[\"Ravenclaw\", \"b\"].item()\n",
    "        f_wb_i_ravenclaw = 1 / (1 + np.exp(-z_ravenclaw))\n",
    "        err_i_ravenclaw  = f_wb_i_ravenclaw  - y_ravenclaw.iloc[i].item()\n",
    "        \n",
    "        z_gryffindor = np.dot(X.iloc[i].values, w.loc[\"Gryffindor\", :].values) + b.loc[\"Gryffindor\", \"b\"].item()\n",
    "        f_wb_i_gryffindor = 1 / (1 + np.exp(-z_gryffindor))\n",
    "        err_i_gryffindor  = f_wb_i_gryffindor  - y_gryffindor.iloc[i].item()\n",
    "\n",
    "        z_hufflepuff = np.dot(X.iloc[i].values, w.loc[\"Hufflepuff\", :].values) + b.loc[\"Hufflepuff\", \"b\"].item()\n",
    "        f_wb_i_hufflepuff = 1 / (1 + np.exp(-z_hufflepuff))\n",
    "        err_i_hufflepuff = f_wb_i_hufflepuff  - y_hufflepuff.iloc[i].item()\n",
    "\n",
    "        for j in range(n):\n",
    "            col_name = X.columns[j]\n",
    "            dj_dw.loc[\"Slytherin\", col_name] = dj_dw.loc[\"Slytherin\", col_name].item() + err_i_slytherin * X.iloc[i,j].item()\n",
    "            dj_dw.loc[\"Ravenclaw\", col_name] = dj_dw.loc[\"Ravenclaw\", col_name].item() + err_i_ravenclaw * X.iloc[i,j].item()\n",
    "            dj_dw.loc[\"Gryffindor\", col_name] = dj_dw.loc[\"Gryffindor\", col_name].item() + err_i_gryffindor * X.iloc[i,j].item()\n",
    "            dj_dw.loc[\"Hufflepuff\", col_name] = dj_dw.loc[\"Hufflepuff\", col_name].item() + err_i_hufflepuff * X.iloc[i,j].item()\n",
    "        \n",
    "        dj_db.loc[\"Slytherin\", \"b\"] = dj_db.loc[\"Slytherin\", \"b\"].item() + err_i_slytherin\n",
    "        dj_db.loc[\"Ravenclaw\", \"b\"] = dj_db.loc[\"Ravenclaw\", \"b\"].item() + err_i_ravenclaw\n",
    "        dj_db.loc[\"Gryffindor\", \"b\"] = dj_db.loc[\"Gryffindor\", \"b\"].item() + err_i_gryffindor\n",
    "        dj_db.loc[\"Hufflepuff\", \"b\"] = dj_db.loc[\"Hufflepuff\", \"b\"].item() + err_i_hufflepuff\n",
    "        \n",
    "    dj_dw =  dj_dw/m\n",
    "    dj_db = dj_db/m\n",
    "\n",
    "    for j in range(n):\n",
    "        col_name = X.columns[j]\n",
    "        dj_dw.loc[\"Slytherin\", col_name] = dj_dw.loc[\"Slytherin\", col_name].item() + (lambda_/m) * w.loc[\"Slytherin\", col_name].item()\n",
    "        dj_dw.loc[\"Ravenclaw\", col_name] = dj_dw.loc[\"Ravenclaw\", col_name].item() + (lambda_/m) * w.loc[\"Ravenclaw\", col_name].item()\n",
    "        dj_dw.loc[\"Gryffindor\", col_name] = dj_dw.loc[\"Gryffindor\", col_name].item() + (lambda_/m) * w.loc[\"Gryffindor\", col_name].item()\n",
    "        dj_dw.loc[\"Hufflepuff\", col_name] = dj_dw.loc[\"Hufflepuff\", col_name].item() + (lambda_/m) * w.loc[\"Hufflepuff\", col_name].item()\n",
    "    \n",
    "    W_updated = w - alpha * dj_dw\n",
    "    b_updated = b - alpha * dj_db\n",
    "    return (W_updated, b_updated)"
   ]
  },
  {
   "cell_type": "code",
   "execution_count": 6,
   "id": "2923301a",
   "metadata": {},
   "outputs": [],
   "source": [
    "def executeGradientDescentAlgo(X, y_slytherin, y_ravenclaw, y_gryffindor, y_hufflepuff, alpha, lambda_, nb_iterations):\n",
    "    w = pd.DataFrame(columns=X.columns,\n",
    "                     index=[\"Slytherin\", \"Ravenclaw\", \"Gryffindor\", \"Hufflepuff\"], data=0)\n",
    "    b = pd.DataFrame(columns=[\"b\"],\n",
    "                     index=[\"Slytherin\", \"Ravenclaw\", \"Gryffindor\", \"Hufflepuff\"], data=0)\n",
    "    result = pd.DataFrame(columns=[\"Slytherin\", \"Ravenclaw\", \"Gryffindor\", \"Hufflepuff\"])\n",
    "    for i in tqdm(range(nb_iterations)):\n",
    "        w, b = updateWb(X, y_slytherin,y_ravenclaw, y_gryffindor, y_hufflepuff, w, b, lambda_, alpha)\n",
    "        # result.append(computeCost(X, y, w, b, lambda_))\n",
    "    return(w, b)"
   ]
  },
  {
   "cell_type": "code",
   "execution_count": 7,
   "id": "f5529344",
   "metadata": {},
   "outputs": [],
   "source": [
    "def logreg(df):\n",
    "    # On supprime les valeurs NaN\n",
    "    for i in range(len(df.columns)):\n",
    "        df = df.loc[~df.isna()[df.columns[i]], :]\n",
    "\n",
    "    # On ajoute les test\n",
    "    slytherin_df = df.copy()\n",
    "    slytherin_df.loc[:, \"Test Slytherin\"] = 0\n",
    "    slytherin_df.loc[df.loc[:,\"Hogwarts House\"] == \"Slytherin\", \"Test Slytherin\"] = 1\n",
    "    ravenclaw_df= df.copy()\n",
    "    ravenclaw_df.loc[:, \"Test Ravenclaw\"] = 0\n",
    "    ravenclaw_df.loc[df.loc[:,\"Hogwarts House\"] == \"Ravenclaw\", \"Test Ravenclaw\"] = 1\n",
    "    gryffindor_df= df.copy()\n",
    "    gryffindor_df.loc[:, \"Test Gryffindor\"] = 0\n",
    "    gryffindor_df.loc[df.loc[:,\"Hogwarts House\"] == \"Gryffindor\", \"Test Gryffindor\"] = 1\n",
    "    hufflepuff_df= df.copy()\n",
    "    hufflepuff_df.loc[:, \"Test Hufflepuff\"] = 0\n",
    "    hufflepuff_df.loc[df.loc[:,\"Hogwarts House\"] == \"Hufflepuff\", \"Test Hufflepuff\"] = 1\n",
    "    slytherin_df.drop(\"Hogwarts House\", axis=1, inplace=True)\n",
    "    ravenclaw_df.drop(\"Hogwarts House\", axis=1, inplace=True)\n",
    "    gryffindor_df.drop(\"Hogwarts House\", axis=1, inplace=True)\n",
    "    hufflepuff_df.drop(\"Hogwarts House\", axis=1, inplace=True)\n",
    "\n",
    "    X = slytherin_df.iloc[:, :len(slytherin_df.columns)-1]\n",
    "    y_slytherin = slytherin_df.iloc[:, len(slytherin_df.columns)-1:]\n",
    "    y_ravenclaw = ravenclaw_df.iloc[:, len(ravenclaw_df.columns)-1:]\n",
    "    y_gryffindor = gryffindor_df.iloc[:, len(gryffindor_df.columns)-1:]\n",
    "    y_hufflepuff = hufflepuff_df.iloc[:, len(hufflepuff_df.columns)-1:]\n",
    "    alpha = 0.3\n",
    "    lambda_ = 1\n",
    "    nb_iterations = 150\n",
    "    return (executeGradientDescentAlgo(X, y_slytherin, y_ravenclaw, y_gryffindor, y_hufflepuff, alpha, lambda_, nb_iterations))"
   ]
  },
  {
   "cell_type": "code",
   "execution_count": 8,
   "id": "bf58a482",
   "metadata": {},
   "outputs": [],
   "source": [
    "df = pd.read_csv(\"../datasets/dataset_train.csv\", index_col = \"Index\")"
   ]
  },
  {
   "cell_type": "code",
   "execution_count": 9,
   "id": "07407a0c",
   "metadata": {},
   "outputs": [],
   "source": [
    "df_bis = df.drop(['First Name', 'Last Name', \"Birthday\", \"Best Hand\"], axis=1, inplace=False)"
   ]
  },
  {
   "cell_type": "code",
   "execution_count": 10,
   "id": "5fe98020",
   "metadata": {},
   "outputs": [],
   "source": [
    "stats = describe(df_bis)"
   ]
  },
  {
   "cell_type": "code",
   "execution_count": 11,
   "id": "810be6d1",
   "metadata": {},
   "outputs": [
    {
     "data": {
      "text/html": [
       "<div>\n",
       "<style scoped>\n",
       "    .dataframe tbody tr th:only-of-type {\n",
       "        vertical-align: middle;\n",
       "    }\n",
       "\n",
       "    .dataframe tbody tr th {\n",
       "        vertical-align: top;\n",
       "    }\n",
       "\n",
       "    .dataframe thead th {\n",
       "        text-align: right;\n",
       "    }\n",
       "</style>\n",
       "<table border=\"1\" class=\"dataframe\">\n",
       "  <thead>\n",
       "    <tr style=\"text-align: right;\">\n",
       "      <th></th>\n",
       "      <th>Arithmancy</th>\n",
       "      <th>Astronomy</th>\n",
       "      <th>Herbology</th>\n",
       "      <th>Defense Against the Dark Arts</th>\n",
       "      <th>Divination</th>\n",
       "      <th>Muggle Studies</th>\n",
       "      <th>Ancient Runes</th>\n",
       "      <th>History of Magic</th>\n",
       "      <th>Transfiguration</th>\n",
       "      <th>Potions</th>\n",
       "      <th>Care of Magical Creatures</th>\n",
       "      <th>Charms</th>\n",
       "      <th>Flying</th>\n",
       "    </tr>\n",
       "  </thead>\n",
       "  <tbody>\n",
       "    <tr>\n",
       "      <th>Mean</th>\n",
       "      <td>49634.570243</td>\n",
       "      <td>39.797131</td>\n",
       "      <td>1.14102</td>\n",
       "      <td>-0.387863</td>\n",
       "      <td>3.15391</td>\n",
       "      <td>-224.589915</td>\n",
       "      <td>495.74797</td>\n",
       "      <td>2.963095</td>\n",
       "      <td>1030.096946</td>\n",
       "      <td>5.950373</td>\n",
       "      <td>-0.053427</td>\n",
       "      <td>-243.374409</td>\n",
       "      <td>21.958012</td>\n",
       "    </tr>\n",
       "    <tr>\n",
       "      <th>Std</th>\n",
       "      <td>16674.479577</td>\n",
       "      <td>520.13233</td>\n",
       "      <td>5.218016</td>\n",
       "      <td>5.211132</td>\n",
       "      <td>4.15397</td>\n",
       "      <td>486.189433</td>\n",
       "      <td>106.251202</td>\n",
       "      <td>4.424353</td>\n",
       "      <td>44.111025</td>\n",
       "      <td>3.146852</td>\n",
       "      <td>0.971146</td>\n",
       "      <td>8.780895</td>\n",
       "      <td>97.601087</td>\n",
       "    </tr>\n",
       "  </tbody>\n",
       "</table>\n",
       "</div>"
      ],
      "text/plain": [
       "        Arithmancy  Astronomy Herbology Defense Against the Dark Arts  \\\n",
       "Mean  49634.570243  39.797131   1.14102                     -0.387863   \n",
       "Std   16674.479577  520.13233  5.218016                      5.211132   \n",
       "\n",
       "     Divination Muggle Studies Ancient Runes History of Magic Transfiguration  \\\n",
       "Mean    3.15391    -224.589915     495.74797         2.963095     1030.096946   \n",
       "Std     4.15397     486.189433    106.251202         4.424353       44.111025   \n",
       "\n",
       "       Potions Care of Magical Creatures      Charms     Flying  \n",
       "Mean  5.950373                 -0.053427 -243.374409  21.958012  \n",
       "Std   3.146852                  0.971146    8.780895  97.601087  "
      ]
     },
     "execution_count": 11,
     "metadata": {},
     "output_type": "execute_result"
    }
   ],
   "source": [
    "stats"
   ]
  },
  {
   "cell_type": "code",
   "execution_count": 12,
   "id": "fd179218",
   "metadata": {},
   "outputs": [],
   "source": [
    "df_Normilised = normalize_value(df_bis)"
   ]
  },
  {
   "cell_type": "code",
   "execution_count": 13,
   "id": "ffb32114",
   "metadata": {},
   "outputs": [],
   "source": [
    "df_Normilised.drop(\"Astronomy\", axis=1, inplace=True)"
   ]
  },
  {
   "cell_type": "code",
   "execution_count": 14,
   "id": "d818bdaa",
   "metadata": {},
   "outputs": [
    {
     "data": {
      "text/html": [
       "<div>\n",
       "<style scoped>\n",
       "    .dataframe tbody tr th:only-of-type {\n",
       "        vertical-align: middle;\n",
       "    }\n",
       "\n",
       "    .dataframe tbody tr th {\n",
       "        vertical-align: top;\n",
       "    }\n",
       "\n",
       "    .dataframe thead th {\n",
       "        text-align: right;\n",
       "    }\n",
       "</style>\n",
       "<table border=\"1\" class=\"dataframe\">\n",
       "  <thead>\n",
       "    <tr style=\"text-align: right;\">\n",
       "      <th></th>\n",
       "      <th>Hogwarts House</th>\n",
       "      <th>Arithmancy</th>\n",
       "      <th>Herbology</th>\n",
       "      <th>Defense Against the Dark Arts</th>\n",
       "      <th>Divination</th>\n",
       "      <th>Muggle Studies</th>\n",
       "      <th>Ancient Runes</th>\n",
       "      <th>History of Magic</th>\n",
       "      <th>Transfiguration</th>\n",
       "      <th>Potions</th>\n",
       "      <th>Care of Magical Creatures</th>\n",
       "      <th>Charms</th>\n",
       "      <th>Flying</th>\n",
       "    </tr>\n",
       "    <tr>\n",
       "      <th>Index</th>\n",
       "      <th></th>\n",
       "      <th></th>\n",
       "      <th></th>\n",
       "      <th></th>\n",
       "      <th></th>\n",
       "      <th></th>\n",
       "      <th></th>\n",
       "      <th></th>\n",
       "      <th></th>\n",
       "      <th></th>\n",
       "      <th></th>\n",
       "      <th></th>\n",
       "      <th></th>\n",
       "    </tr>\n",
       "  </thead>\n",
       "  <tbody>\n",
       "    <tr>\n",
       "      <th>0</th>\n",
       "      <td>Ravenclaw</td>\n",
       "      <td>0.524720</td>\n",
       "      <td>0.878909</td>\n",
       "      <td>1.010668</td>\n",
       "      <td>0.377492</td>\n",
       "      <td>1.021466</td>\n",
       "      <td>0.345749</td>\n",
       "      <td>0.512609</td>\n",
       "      <td>0.219703</td>\n",
       "      <td>-0.686402</td>\n",
       "      <td>0.792225</td>\n",
       "      <td>1.204930</td>\n",
       "      <td>-0.500486</td>\n",
       "    </tr>\n",
       "    <tr>\n",
       "      <th>1</th>\n",
       "      <td>Slytherin</td>\n",
       "      <td>1.055771</td>\n",
       "      <td>-1.366126</td>\n",
       "      <td>1.133817</td>\n",
       "      <td>-2.110249</td>\n",
       "      <td>-0.540429</td>\n",
       "      <td>-1.204576</td>\n",
       "      <td>0.258586</td>\n",
       "      <td>0.653978</td>\n",
       "      <td>0.412593</td>\n",
       "      <td>0.149413</td>\n",
       "      <td>-1.003297</td>\n",
       "      <td>-1.387362</td>\n",
       "    </tr>\n",
       "    <tr>\n",
       "      <th>2</th>\n",
       "      <td>Ravenclaw</td>\n",
       "      <td>-1.555225</td>\n",
       "      <td>1.261782</td>\n",
       "      <td>0.776918</td>\n",
       "      <td>0.718852</td>\n",
       "      <td>1.829500</td>\n",
       "      <td>1.005516</td>\n",
       "      <td>0.133914</td>\n",
       "      <td>1.314669</td>\n",
       "      <td>0.882837</td>\n",
       "      <td>-0.475624</td>\n",
       "      <td>1.825755</td>\n",
       "      <td>0.086700</td>\n",
       "    </tr>\n",
       "    <tr>\n",
       "      <th>3</th>\n",
       "      <td>Gryffindor</td>\n",
       "      <td>-1.017577</td>\n",
       "      <td>-1.463820</td>\n",
       "      <td>-1.264517</td>\n",
       "      <td>0.209941</td>\n",
       "      <td>-0.642571</td>\n",
       "      <td>0.265730</td>\n",
       "      <td>-1.756806</td>\n",
       "      <td>-2.487031</td>\n",
       "      <td>-1.629712</td>\n",
       "      <td>0.040557</td>\n",
       "      <td>-1.534279</td>\n",
       "      <td>1.830738</td>\n",
       "    </tr>\n",
       "    <tr>\n",
       "      <th>4</th>\n",
       "      <td>Gryffindor</td>\n",
       "      <td>0.631110</td>\n",
       "      <td>-1.717442</td>\n",
       "      <td>NaN</td>\n",
       "      <td>-0.220972</td>\n",
       "      <td>-0.451825</td>\n",
       "      <td>0.974827</td>\n",
       "      <td>-1.448228</td>\n",
       "      <td>-2.100659</td>\n",
       "      <td>-0.520936</td>\n",
       "      <td>-0.216902</td>\n",
       "      <td>-1.481955</td>\n",
       "      <td>1.393652</td>\n",
       "    </tr>\n",
       "    <tr>\n",
       "      <th>...</th>\n",
       "      <td>...</td>\n",
       "      <td>...</td>\n",
       "      <td>...</td>\n",
       "      <td>...</td>\n",
       "      <td>...</td>\n",
       "      <td>...</td>\n",
       "      <td>...</td>\n",
       "      <td>...</td>\n",
       "      <td>...</td>\n",
       "      <td>...</td>\n",
       "      <td>...</td>\n",
       "      <td>...</td>\n",
       "      <td>...</td>\n",
       "    </tr>\n",
       "    <tr>\n",
       "      <th>1595</th>\n",
       "      <td>Gryffindor</td>\n",
       "      <td>-0.037517</td>\n",
       "      <td>-1.089084</td>\n",
       "      <td>-0.605423</td>\n",
       "      <td>0.613411</td>\n",
       "      <td>-0.560780</td>\n",
       "      <td>1.152667</td>\n",
       "      <td>-1.852207</td>\n",
       "      <td>-1.493438</td>\n",
       "      <td>-0.813920</td>\n",
       "      <td>-0.614281</td>\n",
       "      <td>-0.799418</td>\n",
       "      <td>1.678998</td>\n",
       "    </tr>\n",
       "    <tr>\n",
       "      <th>1596</th>\n",
       "      <td>Slytherin</td>\n",
       "      <td>0.819302</td>\n",
       "      <td>0.942896</td>\n",
       "      <td>-0.630851</td>\n",
       "      <td>-0.336283</td>\n",
       "      <td>-0.861148</td>\n",
       "      <td>-0.469834</td>\n",
       "      <td>-0.163862</td>\n",
       "      <td>0.590565</td>\n",
       "      <td>-0.039757</td>\n",
       "      <td>-0.288870</td>\n",
       "      <td>-0.347662</td>\n",
       "      <td>0.234034</td>\n",
       "    </tr>\n",
       "    <tr>\n",
       "      <th>1597</th>\n",
       "      <td>Gryffindor</td>\n",
       "      <td>0.855825</td>\n",
       "      <td>-0.832556</td>\n",
       "      <td>-0.969526</td>\n",
       "      <td>0.700797</td>\n",
       "      <td>-0.330243</td>\n",
       "      <td>1.312583</td>\n",
       "      <td>-2.022296</td>\n",
       "      <td>-1.728145</td>\n",
       "      <td>-1.347558</td>\n",
       "      <td>0.128710</td>\n",
       "      <td>-0.940950</td>\n",
       "      <td>1.808504</td>\n",
       "    </tr>\n",
       "    <tr>\n",
       "      <th>1598</th>\n",
       "      <td>Hufflepuff</td>\n",
       "      <td>1.983776</td>\n",
       "      <td>0.441128</td>\n",
       "      <td>-0.796161</td>\n",
       "      <td>0.862811</td>\n",
       "      <td>-1.248796</td>\n",
       "      <td>-1.056958</td>\n",
       "      <td>0.192122</td>\n",
       "      <td>1.311515</td>\n",
       "      <td>-0.650260</td>\n",
       "      <td>-0.492663</td>\n",
       "      <td>-0.320732</td>\n",
       "      <td>-1.011956</td>\n",
       "    </tr>\n",
       "    <tr>\n",
       "      <th>1599</th>\n",
       "      <td>Hufflepuff</td>\n",
       "      <td>-0.059706</td>\n",
       "      <td>0.820240</td>\n",
       "      <td>-1.247571</td>\n",
       "      <td>0.827905</td>\n",
       "      <td>-0.019782</td>\n",
       "      <td>-1.467963</td>\n",
       "      <td>0.959535</td>\n",
       "      <td>0.109520</td>\n",
       "      <td>-1.238749</td>\n",
       "      <td>0.210019</td>\n",
       "      <td>-0.073594</td>\n",
       "      <td>-0.786139</td>\n",
       "    </tr>\n",
       "  </tbody>\n",
       "</table>\n",
       "<p>1600 rows × 13 columns</p>\n",
       "</div>"
      ],
      "text/plain": [
       "      Hogwarts House  Arithmancy  Herbology  Defense Against the Dark Arts  \\\n",
       "Index                                                                        \n",
       "0          Ravenclaw    0.524720   0.878909                       1.010668   \n",
       "1          Slytherin    1.055771  -1.366126                       1.133817   \n",
       "2          Ravenclaw   -1.555225   1.261782                       0.776918   \n",
       "3         Gryffindor   -1.017577  -1.463820                      -1.264517   \n",
       "4         Gryffindor    0.631110  -1.717442                            NaN   \n",
       "...              ...         ...        ...                            ...   \n",
       "1595      Gryffindor   -0.037517  -1.089084                      -0.605423   \n",
       "1596       Slytherin    0.819302   0.942896                      -0.630851   \n",
       "1597      Gryffindor    0.855825  -0.832556                      -0.969526   \n",
       "1598      Hufflepuff    1.983776   0.441128                      -0.796161   \n",
       "1599      Hufflepuff   -0.059706   0.820240                      -1.247571   \n",
       "\n",
       "       Divination  Muggle Studies  Ancient Runes  History of Magic  \\\n",
       "Index                                                                \n",
       "0        0.377492        1.021466       0.345749          0.512609   \n",
       "1       -2.110249       -0.540429      -1.204576          0.258586   \n",
       "2        0.718852        1.829500       1.005516          0.133914   \n",
       "3        0.209941       -0.642571       0.265730         -1.756806   \n",
       "4       -0.220972       -0.451825       0.974827         -1.448228   \n",
       "...           ...             ...            ...               ...   \n",
       "1595     0.613411       -0.560780       1.152667         -1.852207   \n",
       "1596    -0.336283       -0.861148      -0.469834         -0.163862   \n",
       "1597     0.700797       -0.330243       1.312583         -2.022296   \n",
       "1598     0.862811       -1.248796      -1.056958          0.192122   \n",
       "1599     0.827905       -0.019782      -1.467963          0.959535   \n",
       "\n",
       "       Transfiguration   Potions  Care of Magical Creatures    Charms  \\\n",
       "Index                                                                   \n",
       "0             0.219703 -0.686402                   0.792225  1.204930   \n",
       "1             0.653978  0.412593                   0.149413 -1.003297   \n",
       "2             1.314669  0.882837                  -0.475624  1.825755   \n",
       "3            -2.487031 -1.629712                   0.040557 -1.534279   \n",
       "4            -2.100659 -0.520936                  -0.216902 -1.481955   \n",
       "...                ...       ...                        ...       ...   \n",
       "1595         -1.493438 -0.813920                  -0.614281 -0.799418   \n",
       "1596          0.590565 -0.039757                  -0.288870 -0.347662   \n",
       "1597         -1.728145 -1.347558                   0.128710 -0.940950   \n",
       "1598          1.311515 -0.650260                  -0.492663 -0.320732   \n",
       "1599          0.109520 -1.238749                   0.210019 -0.073594   \n",
       "\n",
       "         Flying  \n",
       "Index            \n",
       "0     -0.500486  \n",
       "1     -1.387362  \n",
       "2      0.086700  \n",
       "3      1.830738  \n",
       "4      1.393652  \n",
       "...         ...  \n",
       "1595   1.678998  \n",
       "1596   0.234034  \n",
       "1597   1.808504  \n",
       "1598  -1.011956  \n",
       "1599  -0.786139  \n",
       "\n",
       "[1600 rows x 13 columns]"
      ]
     },
     "execution_count": 14,
     "metadata": {},
     "output_type": "execute_result"
    }
   ],
   "source": [
    "df_Normilised"
   ]
  },
  {
   "cell_type": "code",
   "execution_count": 15,
   "id": "af842471",
   "metadata": {},
   "outputs": [
    {
     "name": "stderr",
     "output_type": "stream",
     "text": [
      "  1%|          | 1/150 [00:04<11:30,  4.63s/it]\n"
     ]
    },
    {
     "ename": "KeyboardInterrupt",
     "evalue": "",
     "output_type": "error",
     "traceback": [
      "\u001b[0;31m---------------------------------------------------------------------------\u001b[0m",
      "\u001b[0;31mKeyboardInterrupt\u001b[0m                         Traceback (most recent call last)",
      "\u001b[0;32m/tmp/ipykernel_1736963/1936517697.py\u001b[0m in \u001b[0;36m?\u001b[0;34m()\u001b[0m\n\u001b[0;32m----> 1\u001b[0;31m \u001b[0mX\u001b[0m\u001b[0;34m,\u001b[0m \u001b[0my_slytherin\u001b[0m\u001b[0;34m,\u001b[0m \u001b[0my_ravenclaw\u001b[0m\u001b[0;34m,\u001b[0m \u001b[0my_gryffindor\u001b[0m\u001b[0;34m,\u001b[0m \u001b[0my_hufflepuff\u001b[0m\u001b[0;34m,\u001b[0m\u001b[0malpha\u001b[0m\u001b[0;34m,\u001b[0m \u001b[0mlambda_\u001b[0m\u001b[0;34m,\u001b[0m \u001b[0mnb_iterations\u001b[0m \u001b[0;34m=\u001b[0m \u001b[0mlogreg\u001b[0m\u001b[0;34m(\u001b[0m\u001b[0mdf_Normilised\u001b[0m\u001b[0;34m.\u001b[0m\u001b[0mcopy\u001b[0m\u001b[0;34m(\u001b[0m\u001b[0;34m)\u001b[0m\u001b[0;34m)\u001b[0m\u001b[0;34m\u001b[0m\u001b[0;34m\u001b[0m\u001b[0m\n\u001b[0m",
      "\u001b[0;32m/tmp/ipykernel_1736963/276950739.py\u001b[0m in \u001b[0;36m?\u001b[0;34m(df)\u001b[0m\n\u001b[1;32m     28\u001b[0m     \u001b[0my_hufflepuff\u001b[0m \u001b[0;34m=\u001b[0m \u001b[0mhufflepuff_df\u001b[0m\u001b[0;34m.\u001b[0m\u001b[0miloc\u001b[0m\u001b[0;34m[\u001b[0m\u001b[0;34m:\u001b[0m\u001b[0;34m,\u001b[0m \u001b[0mlen\u001b[0m\u001b[0;34m(\u001b[0m\u001b[0mhufflepuff_df\u001b[0m\u001b[0;34m.\u001b[0m\u001b[0mcolumns\u001b[0m\u001b[0;34m)\u001b[0m\u001b[0;34m-\u001b[0m\u001b[0;36m1\u001b[0m\u001b[0;34m:\u001b[0m\u001b[0;34m]\u001b[0m\u001b[0;34m\u001b[0m\u001b[0;34m\u001b[0m\u001b[0m\n\u001b[1;32m     29\u001b[0m     \u001b[0malpha\u001b[0m \u001b[0;34m=\u001b[0m \u001b[0;36m0.3\u001b[0m\u001b[0;34m\u001b[0m\u001b[0;34m\u001b[0m\u001b[0m\n\u001b[1;32m     30\u001b[0m     \u001b[0mlambda_\u001b[0m \u001b[0;34m=\u001b[0m \u001b[0;36m1\u001b[0m\u001b[0;34m\u001b[0m\u001b[0;34m\u001b[0m\u001b[0m\n\u001b[1;32m     31\u001b[0m     \u001b[0mnb_iterations\u001b[0m \u001b[0;34m=\u001b[0m \u001b[0;36m150\u001b[0m\u001b[0;34m\u001b[0m\u001b[0;34m\u001b[0m\u001b[0m\n\u001b[0;32m---> 32\u001b[0;31m     \u001b[0;32mreturn\u001b[0m \u001b[0;34m(\u001b[0m\u001b[0mexecuteGradientDescentAlgo\u001b[0m\u001b[0;34m(\u001b[0m\u001b[0mX\u001b[0m\u001b[0;34m,\u001b[0m \u001b[0my_slytherin\u001b[0m\u001b[0;34m,\u001b[0m \u001b[0my_ravenclaw\u001b[0m\u001b[0;34m,\u001b[0m \u001b[0my_gryffindor\u001b[0m\u001b[0;34m,\u001b[0m \u001b[0my_hufflepuff\u001b[0m\u001b[0;34m,\u001b[0m \u001b[0malpha\u001b[0m\u001b[0;34m,\u001b[0m \u001b[0mlambda_\u001b[0m\u001b[0;34m,\u001b[0m \u001b[0mnb_iterations\u001b[0m\u001b[0;34m)\u001b[0m\u001b[0;34m)\u001b[0m\u001b[0;34m\u001b[0m\u001b[0;34m\u001b[0m\u001b[0m\n\u001b[0m",
      "\u001b[0;32m/tmp/ipykernel_1736963/2807707879.py\u001b[0m in \u001b[0;36m?\u001b[0;34m(X, y_slytherin, y_ravenclaw, y_gryffindor, y_hufflepuff, alpha, lambda_, nb_iterations)\u001b[0m\n\u001b[1;32m      4\u001b[0m     b = pd.DataFrame(columns=[\"b\"],\n\u001b[1;32m      5\u001b[0m                      index=[\"Slytherin\", \"Ravenclaw\", \"Gryffindor\", \"Hufflepuff\"], data=0)\n\u001b[1;32m      6\u001b[0m     \u001b[0mresult\u001b[0m \u001b[0;34m=\u001b[0m \u001b[0mpd\u001b[0m\u001b[0;34m.\u001b[0m\u001b[0mDataFrame\u001b[0m\u001b[0;34m(\u001b[0m\u001b[0mcolumns\u001b[0m\u001b[0;34m=\u001b[0m\u001b[0;34m[\u001b[0m\u001b[0;34m\"Slytherin\"\u001b[0m\u001b[0;34m,\u001b[0m \u001b[0;34m\"Ravenclaw\"\u001b[0m\u001b[0;34m,\u001b[0m \u001b[0;34m\"Gryffindor\"\u001b[0m\u001b[0;34m,\u001b[0m \u001b[0;34m\"Hufflepuff\"\u001b[0m\u001b[0;34m]\u001b[0m\u001b[0;34m)\u001b[0m\u001b[0;34m\u001b[0m\u001b[0;34m\u001b[0m\u001b[0m\n\u001b[1;32m      7\u001b[0m     \u001b[0;32mfor\u001b[0m \u001b[0mi\u001b[0m \u001b[0;32min\u001b[0m \u001b[0mtqdm\u001b[0m\u001b[0;34m(\u001b[0m\u001b[0mrange\u001b[0m\u001b[0;34m(\u001b[0m\u001b[0mnb_iterations\u001b[0m\u001b[0;34m)\u001b[0m\u001b[0;34m)\u001b[0m\u001b[0;34m:\u001b[0m\u001b[0;34m\u001b[0m\u001b[0;34m\u001b[0m\u001b[0m\n\u001b[0;32m----> 8\u001b[0;31m         \u001b[0mw\u001b[0m\u001b[0;34m,\u001b[0m \u001b[0mb\u001b[0m \u001b[0;34m=\u001b[0m \u001b[0mupdateWb\u001b[0m\u001b[0;34m(\u001b[0m\u001b[0mX\u001b[0m\u001b[0;34m,\u001b[0m \u001b[0my_slytherin\u001b[0m\u001b[0;34m,\u001b[0m\u001b[0my_ravenclaw\u001b[0m\u001b[0;34m,\u001b[0m \u001b[0my_gryffindor\u001b[0m\u001b[0;34m,\u001b[0m \u001b[0my_hufflepuff\u001b[0m\u001b[0;34m,\u001b[0m \u001b[0mw\u001b[0m\u001b[0;34m,\u001b[0m \u001b[0mb\u001b[0m\u001b[0;34m,\u001b[0m \u001b[0mlambda_\u001b[0m\u001b[0;34m,\u001b[0m \u001b[0malpha\u001b[0m\u001b[0;34m)\u001b[0m\u001b[0;34m\u001b[0m\u001b[0;34m\u001b[0m\u001b[0m\n\u001b[0m\u001b[1;32m      9\u001b[0m         \u001b[0;31m# result.append(computeCost(X, y, w, b, lambda_))\u001b[0m\u001b[0;34m\u001b[0m\u001b[0;34m\u001b[0m\u001b[0m\n\u001b[1;32m     10\u001b[0m     \u001b[0;32mreturn\u001b[0m\u001b[0;34m(\u001b[0m\u001b[0mw\u001b[0m\u001b[0;34m,\u001b[0m \u001b[0mb\u001b[0m\u001b[0;34m)\u001b[0m\u001b[0;34m\u001b[0m\u001b[0;34m\u001b[0m\u001b[0m\n",
      "\u001b[0;32m/tmp/ipykernel_1736963/2823461201.py\u001b[0m in \u001b[0;36m?\u001b[0;34m(X, y_slytherin, y_ravenclaw, y_gryffindor, y_hufflepuff, w, b, lambda_, alpha)\u001b[0m\n\u001b[1;32m     24\u001b[0m         \u001b[0;32mfor\u001b[0m \u001b[0mj\u001b[0m \u001b[0;32min\u001b[0m \u001b[0mrange\u001b[0m\u001b[0;34m(\u001b[0m\u001b[0mn\u001b[0m\u001b[0;34m)\u001b[0m\u001b[0;34m:\u001b[0m\u001b[0;34m\u001b[0m\u001b[0;34m\u001b[0m\u001b[0m\n\u001b[1;32m     25\u001b[0m             \u001b[0mcol_name\u001b[0m \u001b[0;34m=\u001b[0m \u001b[0mX\u001b[0m\u001b[0;34m.\u001b[0m\u001b[0mcolumns\u001b[0m\u001b[0;34m[\u001b[0m\u001b[0mj\u001b[0m\u001b[0;34m]\u001b[0m\u001b[0;34m\u001b[0m\u001b[0;34m\u001b[0m\u001b[0m\n\u001b[1;32m     26\u001b[0m             \u001b[0mdj_dw\u001b[0m\u001b[0;34m.\u001b[0m\u001b[0mloc\u001b[0m\u001b[0;34m[\u001b[0m\u001b[0;34m\"Slytherin\"\u001b[0m\u001b[0;34m,\u001b[0m \u001b[0mcol_name\u001b[0m\u001b[0;34m]\u001b[0m \u001b[0;34m=\u001b[0m \u001b[0mdj_dw\u001b[0m\u001b[0;34m.\u001b[0m\u001b[0mloc\u001b[0m\u001b[0;34m[\u001b[0m\u001b[0;34m\"Slytherin\"\u001b[0m\u001b[0;34m,\u001b[0m \u001b[0mcol_name\u001b[0m\u001b[0;34m]\u001b[0m\u001b[0;34m.\u001b[0m\u001b[0mitem\u001b[0m\u001b[0;34m(\u001b[0m\u001b[0;34m)\u001b[0m \u001b[0;34m+\u001b[0m \u001b[0merr_i_slytherin\u001b[0m \u001b[0;34m*\u001b[0m \u001b[0mX\u001b[0m\u001b[0;34m.\u001b[0m\u001b[0miloc\u001b[0m\u001b[0;34m[\u001b[0m\u001b[0mi\u001b[0m\u001b[0;34m,\u001b[0m\u001b[0mj\u001b[0m\u001b[0;34m]\u001b[0m\u001b[0;34m.\u001b[0m\u001b[0mitem\u001b[0m\u001b[0;34m(\u001b[0m\u001b[0;34m)\u001b[0m\u001b[0;34m\u001b[0m\u001b[0;34m\u001b[0m\u001b[0m\n\u001b[1;32m     27\u001b[0m             \u001b[0mdj_dw\u001b[0m\u001b[0;34m.\u001b[0m\u001b[0mloc\u001b[0m\u001b[0;34m[\u001b[0m\u001b[0;34m\"Ravenclaw\"\u001b[0m\u001b[0;34m,\u001b[0m \u001b[0mcol_name\u001b[0m\u001b[0;34m]\u001b[0m \u001b[0;34m=\u001b[0m \u001b[0mdj_dw\u001b[0m\u001b[0;34m.\u001b[0m\u001b[0mloc\u001b[0m\u001b[0;34m[\u001b[0m\u001b[0;34m\"Ravenclaw\"\u001b[0m\u001b[0;34m,\u001b[0m \u001b[0mcol_name\u001b[0m\u001b[0;34m]\u001b[0m\u001b[0;34m.\u001b[0m\u001b[0mitem\u001b[0m\u001b[0;34m(\u001b[0m\u001b[0;34m)\u001b[0m \u001b[0;34m+\u001b[0m \u001b[0merr_i_ravenclaw\u001b[0m \u001b[0;34m*\u001b[0m \u001b[0mX\u001b[0m\u001b[0;34m.\u001b[0m\u001b[0miloc\u001b[0m\u001b[0;34m[\u001b[0m\u001b[0mi\u001b[0m\u001b[0;34m,\u001b[0m\u001b[0mj\u001b[0m\u001b[0;34m]\u001b[0m\u001b[0;34m.\u001b[0m\u001b[0mitem\u001b[0m\u001b[0;34m(\u001b[0m\u001b[0;34m)\u001b[0m\u001b[0;34m\u001b[0m\u001b[0;34m\u001b[0m\u001b[0m\n\u001b[0;32m---> 28\u001b[0;31m             \u001b[0mdj_dw\u001b[0m\u001b[0;34m.\u001b[0m\u001b[0mloc\u001b[0m\u001b[0;34m[\u001b[0m\u001b[0;34m\"Gryffindor\"\u001b[0m\u001b[0;34m,\u001b[0m \u001b[0mcol_name\u001b[0m\u001b[0;34m]\u001b[0m \u001b[0;34m=\u001b[0m \u001b[0mdj_dw\u001b[0m\u001b[0;34m.\u001b[0m\u001b[0mloc\u001b[0m\u001b[0;34m[\u001b[0m\u001b[0;34m\"Gryffindor\"\u001b[0m\u001b[0;34m,\u001b[0m \u001b[0mcol_name\u001b[0m\u001b[0;34m]\u001b[0m\u001b[0;34m.\u001b[0m\u001b[0mitem\u001b[0m\u001b[0;34m(\u001b[0m\u001b[0;34m)\u001b[0m \u001b[0;34m+\u001b[0m \u001b[0merr_i_gryffindor\u001b[0m \u001b[0;34m*\u001b[0m \u001b[0mX\u001b[0m\u001b[0;34m.\u001b[0m\u001b[0miloc\u001b[0m\u001b[0;34m[\u001b[0m\u001b[0mi\u001b[0m\u001b[0;34m,\u001b[0m\u001b[0mj\u001b[0m\u001b[0;34m]\u001b[0m\u001b[0;34m.\u001b[0m\u001b[0mitem\u001b[0m\u001b[0;34m(\u001b[0m\u001b[0;34m)\u001b[0m\u001b[0;34m\u001b[0m\u001b[0;34m\u001b[0m\u001b[0m\n\u001b[0m\u001b[1;32m     29\u001b[0m             \u001b[0mdj_dw\u001b[0m\u001b[0;34m.\u001b[0m\u001b[0mloc\u001b[0m\u001b[0;34m[\u001b[0m\u001b[0;34m\"Hufflepuff\"\u001b[0m\u001b[0;34m,\u001b[0m \u001b[0mcol_name\u001b[0m\u001b[0;34m]\u001b[0m \u001b[0;34m=\u001b[0m \u001b[0mdj_dw\u001b[0m\u001b[0;34m.\u001b[0m\u001b[0mloc\u001b[0m\u001b[0;34m[\u001b[0m\u001b[0;34m\"Hufflepuff\"\u001b[0m\u001b[0;34m,\u001b[0m \u001b[0mcol_name\u001b[0m\u001b[0;34m]\u001b[0m\u001b[0;34m.\u001b[0m\u001b[0mitem\u001b[0m\u001b[0;34m(\u001b[0m\u001b[0;34m)\u001b[0m \u001b[0;34m+\u001b[0m \u001b[0merr_i_hufflepuff\u001b[0m \u001b[0;34m*\u001b[0m \u001b[0mX\u001b[0m\u001b[0;34m.\u001b[0m\u001b[0miloc\u001b[0m\u001b[0;34m[\u001b[0m\u001b[0mi\u001b[0m\u001b[0;34m,\u001b[0m\u001b[0mj\u001b[0m\u001b[0;34m]\u001b[0m\u001b[0;34m.\u001b[0m\u001b[0mitem\u001b[0m\u001b[0;34m(\u001b[0m\u001b[0;34m)\u001b[0m\u001b[0;34m\u001b[0m\u001b[0;34m\u001b[0m\u001b[0m\n\u001b[1;32m     30\u001b[0m \u001b[0;34m\u001b[0m\u001b[0m\n\u001b[1;32m     31\u001b[0m         \u001b[0mdj_db\u001b[0m\u001b[0;34m.\u001b[0m\u001b[0mloc\u001b[0m\u001b[0;34m[\u001b[0m\u001b[0;34m\"Slytherin\"\u001b[0m\u001b[0;34m,\u001b[0m \u001b[0;34m\"b\"\u001b[0m\u001b[0;34m]\u001b[0m \u001b[0;34m=\u001b[0m \u001b[0mdj_db\u001b[0m\u001b[0;34m.\u001b[0m\u001b[0mloc\u001b[0m\u001b[0;34m[\u001b[0m\u001b[0;34m\"Slytherin\"\u001b[0m\u001b[0;34m,\u001b[0m \u001b[0;34m\"b\"\u001b[0m\u001b[0;34m]\u001b[0m\u001b[0;34m.\u001b[0m\u001b[0mitem\u001b[0m\u001b[0;34m(\u001b[0m\u001b[0;34m)\u001b[0m \u001b[0;34m+\u001b[0m \u001b[0merr_i_slytherin\u001b[0m\u001b[0;34m\u001b[0m\u001b[0;34m\u001b[0m\u001b[0m\n",
      "\u001b[0;32m~/.local/lib/python3.10/site-packages/pandas/core/indexing.py\u001b[0m in \u001b[0;36m?\u001b[0;34m(self, key)\u001b[0m\n\u001b[1;32m   1142\u001b[0m         \u001b[0;32mif\u001b[0m \u001b[0mtype\u001b[0m\u001b[0;34m(\u001b[0m\u001b[0mkey\u001b[0m\u001b[0;34m)\u001b[0m \u001b[0;32mis\u001b[0m \u001b[0mtuple\u001b[0m\u001b[0;34m:\u001b[0m\u001b[0;34m\u001b[0m\u001b[0;34m\u001b[0m\u001b[0m\n\u001b[1;32m   1143\u001b[0m             \u001b[0mkey\u001b[0m \u001b[0;34m=\u001b[0m \u001b[0mtuple\u001b[0m\u001b[0;34m(\u001b[0m\u001b[0mlist\u001b[0m\u001b[0;34m(\u001b[0m\u001b[0mx\u001b[0m\u001b[0;34m)\u001b[0m \u001b[0;32mif\u001b[0m \u001b[0mis_iterator\u001b[0m\u001b[0;34m(\u001b[0m\u001b[0mx\u001b[0m\u001b[0;34m)\u001b[0m \u001b[0;32melse\u001b[0m \u001b[0mx\u001b[0m \u001b[0;32mfor\u001b[0m \u001b[0mx\u001b[0m \u001b[0;32min\u001b[0m \u001b[0mkey\u001b[0m\u001b[0;34m)\u001b[0m\u001b[0;34m\u001b[0m\u001b[0;34m\u001b[0m\u001b[0m\n\u001b[1;32m   1144\u001b[0m             \u001b[0mkey\u001b[0m \u001b[0;34m=\u001b[0m \u001b[0mtuple\u001b[0m\u001b[0;34m(\u001b[0m\u001b[0mcom\u001b[0m\u001b[0;34m.\u001b[0m\u001b[0mapply_if_callable\u001b[0m\u001b[0;34m(\u001b[0m\u001b[0mx\u001b[0m\u001b[0;34m,\u001b[0m \u001b[0mself\u001b[0m\u001b[0;34m.\u001b[0m\u001b[0mobj\u001b[0m\u001b[0;34m)\u001b[0m \u001b[0;32mfor\u001b[0m \u001b[0mx\u001b[0m \u001b[0;32min\u001b[0m \u001b[0mkey\u001b[0m\u001b[0;34m)\u001b[0m\u001b[0;34m\u001b[0m\u001b[0;34m\u001b[0m\u001b[0m\n\u001b[1;32m   1145\u001b[0m             \u001b[0;32mif\u001b[0m \u001b[0mself\u001b[0m\u001b[0;34m.\u001b[0m\u001b[0m_is_scalar_access\u001b[0m\u001b[0;34m(\u001b[0m\u001b[0mkey\u001b[0m\u001b[0;34m)\u001b[0m\u001b[0;34m:\u001b[0m\u001b[0;34m\u001b[0m\u001b[0;34m\u001b[0m\u001b[0m\n\u001b[0;32m-> 1146\u001b[0;31m                 \u001b[0;32mreturn\u001b[0m \u001b[0mself\u001b[0m\u001b[0;34m.\u001b[0m\u001b[0mobj\u001b[0m\u001b[0;34m.\u001b[0m\u001b[0m_get_value\u001b[0m\u001b[0;34m(\u001b[0m\u001b[0;34m*\u001b[0m\u001b[0mkey\u001b[0m\u001b[0;34m,\u001b[0m \u001b[0mtakeable\u001b[0m\u001b[0;34m=\u001b[0m\u001b[0mself\u001b[0m\u001b[0;34m.\u001b[0m\u001b[0m_takeable\u001b[0m\u001b[0;34m)\u001b[0m\u001b[0;34m\u001b[0m\u001b[0;34m\u001b[0m\u001b[0m\n\u001b[0m\u001b[1;32m   1147\u001b[0m             \u001b[0;32mreturn\u001b[0m \u001b[0mself\u001b[0m\u001b[0;34m.\u001b[0m\u001b[0m_getitem_tuple\u001b[0m\u001b[0;34m(\u001b[0m\u001b[0mkey\u001b[0m\u001b[0;34m)\u001b[0m\u001b[0;34m\u001b[0m\u001b[0;34m\u001b[0m\u001b[0m\n\u001b[1;32m   1148\u001b[0m         \u001b[0;32melse\u001b[0m\u001b[0;34m:\u001b[0m\u001b[0;34m\u001b[0m\u001b[0;34m\u001b[0m\u001b[0m\n\u001b[1;32m   1149\u001b[0m             \u001b[0;31m# we by definition only have the 0th axis\u001b[0m\u001b[0;34m\u001b[0m\u001b[0;34m\u001b[0m\u001b[0m\n",
      "\u001b[0;32m~/.local/lib/python3.10/site-packages/pandas/core/frame.py\u001b[0m in \u001b[0;36m?\u001b[0;34m(self, index, col, takeable)\u001b[0m\n\u001b[1;32m   4001\u001b[0m         \u001b[0;32mif\u001b[0m \u001b[0mtakeable\u001b[0m\u001b[0;34m:\u001b[0m\u001b[0;34m\u001b[0m\u001b[0;34m\u001b[0m\u001b[0m\n\u001b[1;32m   4002\u001b[0m             \u001b[0mseries\u001b[0m \u001b[0;34m=\u001b[0m \u001b[0mself\u001b[0m\u001b[0;34m.\u001b[0m\u001b[0m_ixs\u001b[0m\u001b[0;34m(\u001b[0m\u001b[0mcol\u001b[0m\u001b[0;34m,\u001b[0m \u001b[0maxis\u001b[0m\u001b[0;34m=\u001b[0m\u001b[0;36m1\u001b[0m\u001b[0;34m)\u001b[0m\u001b[0;34m\u001b[0m\u001b[0;34m\u001b[0m\u001b[0m\n\u001b[1;32m   4003\u001b[0m             \u001b[0;32mreturn\u001b[0m \u001b[0mseries\u001b[0m\u001b[0;34m.\u001b[0m\u001b[0m_values\u001b[0m\u001b[0;34m[\u001b[0m\u001b[0mindex\u001b[0m\u001b[0;34m]\u001b[0m\u001b[0;34m\u001b[0m\u001b[0;34m\u001b[0m\u001b[0m\n\u001b[1;32m   4004\u001b[0m \u001b[0;34m\u001b[0m\u001b[0m\n\u001b[0;32m-> 4005\u001b[0;31m         \u001b[0mseries\u001b[0m \u001b[0;34m=\u001b[0m \u001b[0mself\u001b[0m\u001b[0;34m.\u001b[0m\u001b[0m_get_item_cache\u001b[0m\u001b[0;34m(\u001b[0m\u001b[0mcol\u001b[0m\u001b[0;34m)\u001b[0m\u001b[0;34m\u001b[0m\u001b[0;34m\u001b[0m\u001b[0m\n\u001b[0m\u001b[1;32m   4006\u001b[0m         \u001b[0mengine\u001b[0m \u001b[0;34m=\u001b[0m \u001b[0mself\u001b[0m\u001b[0;34m.\u001b[0m\u001b[0mindex\u001b[0m\u001b[0;34m.\u001b[0m\u001b[0m_engine\u001b[0m\u001b[0;34m\u001b[0m\u001b[0;34m\u001b[0m\u001b[0m\n\u001b[1;32m   4007\u001b[0m \u001b[0;34m\u001b[0m\u001b[0m\n\u001b[1;32m   4008\u001b[0m         \u001b[0;32mif\u001b[0m \u001b[0;32mnot\u001b[0m \u001b[0misinstance\u001b[0m\u001b[0;34m(\u001b[0m\u001b[0mself\u001b[0m\u001b[0;34m.\u001b[0m\u001b[0mindex\u001b[0m\u001b[0;34m,\u001b[0m \u001b[0mMultiIndex\u001b[0m\u001b[0;34m)\u001b[0m\u001b[0;34m:\u001b[0m\u001b[0;34m\u001b[0m\u001b[0;34m\u001b[0m\u001b[0m\n",
      "\u001b[0;32m~/.local/lib/python3.10/site-packages/pandas/core/frame.py\u001b[0m in \u001b[0;36m?\u001b[0;34m(self, item)\u001b[0m\n\u001b[1;32m   4411\u001b[0m             \u001b[0;31m# All places that call _get_item_cache have unique columns,\u001b[0m\u001b[0;34m\u001b[0m\u001b[0;34m\u001b[0m\u001b[0m\n\u001b[1;32m   4412\u001b[0m             \u001b[0;31m#  pending resolution of GH#33047\u001b[0m\u001b[0;34m\u001b[0m\u001b[0;34m\u001b[0m\u001b[0m\n\u001b[1;32m   4413\u001b[0m \u001b[0;34m\u001b[0m\u001b[0m\n\u001b[1;32m   4414\u001b[0m             \u001b[0mloc\u001b[0m \u001b[0;34m=\u001b[0m \u001b[0mself\u001b[0m\u001b[0;34m.\u001b[0m\u001b[0mcolumns\u001b[0m\u001b[0;34m.\u001b[0m\u001b[0mget_loc\u001b[0m\u001b[0;34m(\u001b[0m\u001b[0mitem\u001b[0m\u001b[0;34m)\u001b[0m\u001b[0;34m\u001b[0m\u001b[0;34m\u001b[0m\u001b[0m\n\u001b[0;32m-> 4415\u001b[0;31m             \u001b[0mres\u001b[0m \u001b[0;34m=\u001b[0m \u001b[0mself\u001b[0m\u001b[0;34m.\u001b[0m\u001b[0m_ixs\u001b[0m\u001b[0;34m(\u001b[0m\u001b[0mloc\u001b[0m\u001b[0;34m,\u001b[0m \u001b[0maxis\u001b[0m\u001b[0;34m=\u001b[0m\u001b[0;36m1\u001b[0m\u001b[0;34m)\u001b[0m\u001b[0;34m\u001b[0m\u001b[0;34m\u001b[0m\u001b[0m\n\u001b[0m\u001b[1;32m   4416\u001b[0m \u001b[0;34m\u001b[0m\u001b[0m\n\u001b[1;32m   4417\u001b[0m             \u001b[0mcache\u001b[0m\u001b[0;34m[\u001b[0m\u001b[0mitem\u001b[0m\u001b[0;34m]\u001b[0m \u001b[0;34m=\u001b[0m \u001b[0mres\u001b[0m\u001b[0;34m\u001b[0m\u001b[0;34m\u001b[0m\u001b[0m\n\u001b[1;32m   4418\u001b[0m \u001b[0;34m\u001b[0m\u001b[0m\n",
      "\u001b[0;32m~/.local/lib/python3.10/site-packages/pandas/core/frame.py\u001b[0m in \u001b[0;36m?\u001b[0;34m(self, i, axis)\u001b[0m\n\u001b[1;32m   3800\u001b[0m         \u001b[0;32melse\u001b[0m\u001b[0;34m:\u001b[0m\u001b[0;34m\u001b[0m\u001b[0;34m\u001b[0m\u001b[0m\n\u001b[1;32m   3801\u001b[0m             \u001b[0mlabel\u001b[0m \u001b[0;34m=\u001b[0m \u001b[0mself\u001b[0m\u001b[0;34m.\u001b[0m\u001b[0mcolumns\u001b[0m\u001b[0;34m[\u001b[0m\u001b[0mi\u001b[0m\u001b[0;34m]\u001b[0m\u001b[0;34m\u001b[0m\u001b[0;34m\u001b[0m\u001b[0m\n\u001b[1;32m   3802\u001b[0m \u001b[0;34m\u001b[0m\u001b[0m\n\u001b[1;32m   3803\u001b[0m             \u001b[0mcol_mgr\u001b[0m \u001b[0;34m=\u001b[0m \u001b[0mself\u001b[0m\u001b[0;34m.\u001b[0m\u001b[0m_mgr\u001b[0m\u001b[0;34m.\u001b[0m\u001b[0miget\u001b[0m\u001b[0;34m(\u001b[0m\u001b[0mi\u001b[0m\u001b[0;34m)\u001b[0m\u001b[0;34m\u001b[0m\u001b[0;34m\u001b[0m\u001b[0m\n\u001b[0;32m-> 3804\u001b[0;31m             \u001b[0mresult\u001b[0m \u001b[0;34m=\u001b[0m \u001b[0mself\u001b[0m\u001b[0;34m.\u001b[0m\u001b[0m_box_col_values\u001b[0m\u001b[0;34m(\u001b[0m\u001b[0mcol_mgr\u001b[0m\u001b[0;34m,\u001b[0m \u001b[0mi\u001b[0m\u001b[0;34m)\u001b[0m\u001b[0;34m\u001b[0m\u001b[0;34m\u001b[0m\u001b[0m\n\u001b[0m\u001b[1;32m   3805\u001b[0m \u001b[0;34m\u001b[0m\u001b[0m\n\u001b[1;32m   3806\u001b[0m             \u001b[0;31m# this is a cached value, mark it so\u001b[0m\u001b[0;34m\u001b[0m\u001b[0;34m\u001b[0m\u001b[0m\n\u001b[1;32m   3807\u001b[0m             \u001b[0mresult\u001b[0m\u001b[0;34m.\u001b[0m\u001b[0m_set_as_cached\u001b[0m\u001b[0;34m(\u001b[0m\u001b[0mlabel\u001b[0m\u001b[0;34m,\u001b[0m \u001b[0mself\u001b[0m\u001b[0;34m)\u001b[0m\u001b[0;34m\u001b[0m\u001b[0;34m\u001b[0m\u001b[0m\n",
      "\u001b[0;32m~/.local/lib/python3.10/site-packages/pandas/core/frame.py\u001b[0m in \u001b[0;36m?\u001b[0;34m(self, values, loc)\u001b[0m\n\u001b[1;32m   4388\u001b[0m         \u001b[0;31m# Lookup in columns so that if e.g. a str datetime was passed\u001b[0m\u001b[0;34m\u001b[0m\u001b[0;34m\u001b[0m\u001b[0m\n\u001b[1;32m   4389\u001b[0m         \u001b[0;31m#  we attach the Timestamp object as the name.\u001b[0m\u001b[0;34m\u001b[0m\u001b[0;34m\u001b[0m\u001b[0m\n\u001b[1;32m   4390\u001b[0m         \u001b[0mname\u001b[0m \u001b[0;34m=\u001b[0m \u001b[0mself\u001b[0m\u001b[0;34m.\u001b[0m\u001b[0mcolumns\u001b[0m\u001b[0;34m[\u001b[0m\u001b[0mloc\u001b[0m\u001b[0;34m]\u001b[0m\u001b[0;34m\u001b[0m\u001b[0;34m\u001b[0m\u001b[0m\n\u001b[1;32m   4391\u001b[0m         \u001b[0;31m# We get index=self.index bc values is a SingleDataManager\u001b[0m\u001b[0;34m\u001b[0m\u001b[0;34m\u001b[0m\u001b[0m\n\u001b[0;32m-> 4392\u001b[0;31m         \u001b[0mobj\u001b[0m \u001b[0;34m=\u001b[0m \u001b[0mself\u001b[0m\u001b[0;34m.\u001b[0m\u001b[0m_constructor_sliced_from_mgr\u001b[0m\u001b[0;34m(\u001b[0m\u001b[0mvalues\u001b[0m\u001b[0;34m,\u001b[0m \u001b[0maxes\u001b[0m\u001b[0;34m=\u001b[0m\u001b[0mvalues\u001b[0m\u001b[0;34m.\u001b[0m\u001b[0maxes\u001b[0m\u001b[0;34m)\u001b[0m\u001b[0;34m\u001b[0m\u001b[0;34m\u001b[0m\u001b[0m\n\u001b[0m\u001b[1;32m   4393\u001b[0m         \u001b[0mobj\u001b[0m\u001b[0;34m.\u001b[0m\u001b[0m_name\u001b[0m \u001b[0;34m=\u001b[0m \u001b[0mname\u001b[0m\u001b[0;34m\u001b[0m\u001b[0;34m\u001b[0m\u001b[0m\n\u001b[1;32m   4394\u001b[0m         \u001b[0;32mreturn\u001b[0m \u001b[0mobj\u001b[0m\u001b[0;34m.\u001b[0m\u001b[0m__finalize__\u001b[0m\u001b[0;34m(\u001b[0m\u001b[0mself\u001b[0m\u001b[0;34m)\u001b[0m\u001b[0;34m\u001b[0m\u001b[0;34m\u001b[0m\u001b[0m\n",
      "\u001b[0;32m~/.local/lib/python3.10/site-packages/pandas/core/frame.py\u001b[0m in \u001b[0;36m?\u001b[0;34m(self, mgr, axes)\u001b[0m\n\u001b[1;32m    654\u001b[0m     \u001b[0;32mdef\u001b[0m \u001b[0m_constructor_sliced_from_mgr\u001b[0m\u001b[0;34m(\u001b[0m\u001b[0mself\u001b[0m\u001b[0;34m,\u001b[0m \u001b[0mmgr\u001b[0m\u001b[0;34m,\u001b[0m \u001b[0maxes\u001b[0m\u001b[0;34m)\u001b[0m\u001b[0;34m:\u001b[0m\u001b[0;34m\u001b[0m\u001b[0;34m\u001b[0m\u001b[0m\n\u001b[1;32m    655\u001b[0m         \u001b[0;32mif\u001b[0m \u001b[0mself\u001b[0m\u001b[0;34m.\u001b[0m\u001b[0m_constructor_sliced\u001b[0m \u001b[0;32mis\u001b[0m \u001b[0mSeries\u001b[0m\u001b[0;34m:\u001b[0m\u001b[0;34m\u001b[0m\u001b[0;34m\u001b[0m\u001b[0m\n\u001b[0;32m--> 656\u001b[0;31m             \u001b[0mser\u001b[0m \u001b[0;34m=\u001b[0m \u001b[0mself\u001b[0m\u001b[0;34m.\u001b[0m\u001b[0m_sliced_from_mgr\u001b[0m\u001b[0;34m(\u001b[0m\u001b[0mmgr\u001b[0m\u001b[0;34m,\u001b[0m \u001b[0maxes\u001b[0m\u001b[0;34m)\u001b[0m\u001b[0;34m\u001b[0m\u001b[0;34m\u001b[0m\u001b[0m\n\u001b[0m\u001b[1;32m    657\u001b[0m             \u001b[0mser\u001b[0m\u001b[0;34m.\u001b[0m\u001b[0m_name\u001b[0m \u001b[0;34m=\u001b[0m \u001b[0;32mNone\u001b[0m  \u001b[0;31m# caller is responsible for setting real name\u001b[0m\u001b[0;34m\u001b[0m\u001b[0;34m\u001b[0m\u001b[0m\n\u001b[1;32m    658\u001b[0m             \u001b[0;32mreturn\u001b[0m \u001b[0mser\u001b[0m\u001b[0;34m\u001b[0m\u001b[0;34m\u001b[0m\u001b[0m\n\u001b[1;32m    659\u001b[0m         \u001b[0;32massert\u001b[0m \u001b[0maxes\u001b[0m \u001b[0;32mis\u001b[0m \u001b[0mmgr\u001b[0m\u001b[0;34m.\u001b[0m\u001b[0maxes\u001b[0m\u001b[0;34m\u001b[0m\u001b[0;34m\u001b[0m\u001b[0m\n",
      "\u001b[0;32m~/.local/lib/python3.10/site-packages/pandas/core/frame.py\u001b[0m in \u001b[0;36m?\u001b[0;34m(self, mgr, axes)\u001b[0m\n\u001b[1;32m    651\u001b[0m     \u001b[0;32mdef\u001b[0m \u001b[0m_sliced_from_mgr\u001b[0m\u001b[0;34m(\u001b[0m\u001b[0mself\u001b[0m\u001b[0;34m,\u001b[0m \u001b[0mmgr\u001b[0m\u001b[0;34m,\u001b[0m \u001b[0maxes\u001b[0m\u001b[0;34m)\u001b[0m \u001b[0;34m->\u001b[0m \u001b[0mSeries\u001b[0m\u001b[0;34m:\u001b[0m\u001b[0;34m\u001b[0m\u001b[0;34m\u001b[0m\u001b[0m\n\u001b[0;32m--> 652\u001b[0;31m         \u001b[0;32mreturn\u001b[0m \u001b[0mSeries\u001b[0m\u001b[0;34m.\u001b[0m\u001b[0m_from_mgr\u001b[0m\u001b[0;34m(\u001b[0m\u001b[0mmgr\u001b[0m\u001b[0;34m,\u001b[0m \u001b[0maxes\u001b[0m\u001b[0;34m)\u001b[0m\u001b[0;34m\u001b[0m\u001b[0;34m\u001b[0m\u001b[0m\n\u001b[0m",
      "\u001b[0;32m~/.local/lib/python3.10/site-packages/pandas/core/generic.py\u001b[0m in \u001b[0;36m?\u001b[0;34m(cls, mgr, axes)\u001b[0m\n\u001b[1;32m    348\u001b[0m         \u001b[0mThe\u001b[0m \u001b[0maxes\u001b[0m \u001b[0mmust\u001b[0m \u001b[0mmatch\u001b[0m \u001b[0mmgr\u001b[0m\u001b[0;34m.\u001b[0m\u001b[0maxes\u001b[0m\u001b[0;34m,\u001b[0m \u001b[0mbut\u001b[0m \u001b[0mare\u001b[0m \u001b[0mrequired\u001b[0m \u001b[0;32mfor\u001b[0m \u001b[0mfuture\u001b[0m\u001b[0;34m-\u001b[0m\u001b[0mproofing\u001b[0m\u001b[0;34m\u001b[0m\u001b[0;34m\u001b[0m\u001b[0m\n\u001b[1;32m    349\u001b[0m         \u001b[0;32min\u001b[0m \u001b[0mthe\u001b[0m \u001b[0mevent\u001b[0m \u001b[0mthat\u001b[0m \u001b[0maxes\u001b[0m \u001b[0mare\u001b[0m \u001b[0mrefactored\u001b[0m \u001b[0mout\u001b[0m \u001b[0mof\u001b[0m \u001b[0mthe\u001b[0m \u001b[0mManager\u001b[0m \u001b[0mobjects\u001b[0m\u001b[0;34m.\u001b[0m\u001b[0;34m\u001b[0m\u001b[0;34m\u001b[0m\u001b[0m\n\u001b[1;32m    350\u001b[0m         \"\"\"\n\u001b[1;32m    351\u001b[0m         \u001b[0mobj\u001b[0m \u001b[0;34m=\u001b[0m \u001b[0mcls\u001b[0m\u001b[0;34m.\u001b[0m\u001b[0m__new__\u001b[0m\u001b[0;34m(\u001b[0m\u001b[0mcls\u001b[0m\u001b[0;34m)\u001b[0m\u001b[0;34m\u001b[0m\u001b[0;34m\u001b[0m\u001b[0m\n\u001b[0;32m--> 352\u001b[0;31m         \u001b[0mNDFrame\u001b[0m\u001b[0;34m.\u001b[0m\u001b[0m__init__\u001b[0m\u001b[0;34m(\u001b[0m\u001b[0mobj\u001b[0m\u001b[0;34m,\u001b[0m \u001b[0mmgr\u001b[0m\u001b[0;34m)\u001b[0m\u001b[0;34m\u001b[0m\u001b[0;34m\u001b[0m\u001b[0m\n\u001b[0m\u001b[1;32m    353\u001b[0m         \u001b[0;32mreturn\u001b[0m \u001b[0mobj\u001b[0m\u001b[0;34m\u001b[0m\u001b[0;34m\u001b[0m\u001b[0m\n",
      "\u001b[0;32m~/.local/lib/python3.10/site-packages/pandas/core/generic.py\u001b[0m in \u001b[0;36m?\u001b[0;34m(self, data)\u001b[0m\n\u001b[1;32m    275\u001b[0m         \u001b[0mobject\u001b[0m\u001b[0;34m.\u001b[0m\u001b[0m__setattr__\u001b[0m\u001b[0;34m(\u001b[0m\u001b[0mself\u001b[0m\u001b[0;34m,\u001b[0m \u001b[0;34m\"_is_copy\"\u001b[0m\u001b[0;34m,\u001b[0m \u001b[0;32mNone\u001b[0m\u001b[0;34m)\u001b[0m\u001b[0;34m\u001b[0m\u001b[0;34m\u001b[0m\u001b[0m\n\u001b[1;32m    276\u001b[0m         \u001b[0mobject\u001b[0m\u001b[0;34m.\u001b[0m\u001b[0m__setattr__\u001b[0m\u001b[0;34m(\u001b[0m\u001b[0mself\u001b[0m\u001b[0;34m,\u001b[0m \u001b[0;34m\"_mgr\"\u001b[0m\u001b[0;34m,\u001b[0m \u001b[0mdata\u001b[0m\u001b[0;34m)\u001b[0m\u001b[0;34m\u001b[0m\u001b[0;34m\u001b[0m\u001b[0m\n\u001b[1;32m    277\u001b[0m         \u001b[0mobject\u001b[0m\u001b[0;34m.\u001b[0m\u001b[0m__setattr__\u001b[0m\u001b[0;34m(\u001b[0m\u001b[0mself\u001b[0m\u001b[0;34m,\u001b[0m \u001b[0;34m\"_item_cache\"\u001b[0m\u001b[0;34m,\u001b[0m \u001b[0;34m{\u001b[0m\u001b[0;34m}\u001b[0m\u001b[0;34m)\u001b[0m\u001b[0;34m\u001b[0m\u001b[0;34m\u001b[0m\u001b[0m\n\u001b[1;32m    278\u001b[0m         \u001b[0mobject\u001b[0m\u001b[0;34m.\u001b[0m\u001b[0m__setattr__\u001b[0m\u001b[0;34m(\u001b[0m\u001b[0mself\u001b[0m\u001b[0;34m,\u001b[0m \u001b[0;34m\"_attrs\"\u001b[0m\u001b[0;34m,\u001b[0m \u001b[0;34m{\u001b[0m\u001b[0;34m}\u001b[0m\u001b[0;34m)\u001b[0m\u001b[0;34m\u001b[0m\u001b[0;34m\u001b[0m\u001b[0m\n\u001b[0;32m--> 279\u001b[0;31m         \u001b[0mobject\u001b[0m\u001b[0;34m.\u001b[0m\u001b[0m__setattr__\u001b[0m\u001b[0;34m(\u001b[0m\u001b[0mself\u001b[0m\u001b[0;34m,\u001b[0m \u001b[0;34m\"_flags\"\u001b[0m\u001b[0;34m,\u001b[0m \u001b[0mFlags\u001b[0m\u001b[0;34m(\u001b[0m\u001b[0mself\u001b[0m\u001b[0;34m,\u001b[0m \u001b[0mallows_duplicate_labels\u001b[0m\u001b[0;34m=\u001b[0m\u001b[0;32mTrue\u001b[0m\u001b[0;34m)\u001b[0m\u001b[0;34m)\u001b[0m\u001b[0;34m\u001b[0m\u001b[0;34m\u001b[0m\u001b[0m\n\u001b[0m",
      "\u001b[0;31mKeyboardInterrupt\u001b[0m: "
     ]
    }
   ],
   "source": [
    "X, y_slytherin, y_ravenclaw, y_gryffindor, y_hufflepuff,alpha, lambda_, nb_iterations = logreg(df_Normilised.copy())"
   ]
  },
  {
   "cell_type": "code",
   "execution_count": 16,
   "id": "43debcef",
   "metadata": {},
   "outputs": [
    {
     "ename": "NameError",
     "evalue": "name 'y_slytherin' is not defined",
     "output_type": "error",
     "traceback": [
      "\u001b[0;31m---------------------------------------------------------------------------\u001b[0m",
      "\u001b[0;31mNameError\u001b[0m                                 Traceback (most recent call last)",
      "Cell \u001b[0;32mIn[16], line 1\u001b[0m\n\u001b[0;32m----> 1\u001b[0m \u001b[43my_slytherin\u001b[49m\n",
      "\u001b[0;31mNameError\u001b[0m: name 'y_slytherin' is not defined"
     ]
    }
   ],
   "source": [
    "y_slytherin"
   ]
  },
  {
   "cell_type": "code",
   "execution_count": 18,
   "id": "b8a437be",
   "metadata": {},
   "outputs": [
    {
     "ename": "NameError",
     "evalue": "name 'y_gryffindor' is not defined",
     "output_type": "error",
     "traceback": [
      "\u001b[0;31m---------------------------------------------------------------------------\u001b[0m",
      "\u001b[0;31mNameError\u001b[0m                                 Traceback (most recent call last)",
      "Cell \u001b[0;32mIn[18], line 1\u001b[0m\n\u001b[0;32m----> 1\u001b[0m \u001b[43my_gryffindor\u001b[49m\u001b[38;5;241m.\u001b[39mto_numpy()\n",
      "\u001b[0;31mNameError\u001b[0m: name 'y_gryffindor' is not defined"
     ]
    }
   ],
   "source": [
    "y_gryffindor.to_numpy()"
   ]
  },
  {
   "cell_type": "code",
   "execution_count": null,
   "id": "199c12cc",
   "metadata": {},
   "outputs": [],
   "source": [
    "w = pd.DataFrame(columns=X.columns,\n",
    "                    index=[\"Slytherin\", \"Ravenclaw\", \"Gryffindor\", \"Hufflepuff\"], data=0.0)\n",
    "b = pd.DataFrame(columns=[\"b\"],\n",
    "                    index=[\"Slytherin\", \"Ravenclaw\", \"Gryffindor\", \"Hufflepuff\"], data=0.0)\n",
    "result = pd.DataFrame(columns=[\"Slytherin\", \"Ravenclaw\", \"Gryffindor\", \"Hufflepuff\"])\n"
   ]
  },
  {
   "cell_type": "code",
   "execution_count": null,
   "id": "b60f15a6",
   "metadata": {},
   "outputs": [
    {
     "data": {
      "text/html": [
       "<div>\n",
       "<style scoped>\n",
       "    .dataframe tbody tr th:only-of-type {\n",
       "        vertical-align: middle;\n",
       "    }\n",
       "\n",
       "    .dataframe tbody tr th {\n",
       "        vertical-align: top;\n",
       "    }\n",
       "\n",
       "    .dataframe thead th {\n",
       "        text-align: right;\n",
       "    }\n",
       "</style>\n",
       "<table border=\"1\" class=\"dataframe\">\n",
       "  <thead>\n",
       "    <tr style=\"text-align: right;\">\n",
       "      <th></th>\n",
       "      <th>Slytherin</th>\n",
       "      <th>Ravenclaw</th>\n",
       "      <th>Gryffindor</th>\n",
       "      <th>Hufflepuff</th>\n",
       "    </tr>\n",
       "  </thead>\n",
       "  <tbody>\n",
       "  </tbody>\n",
       "</table>\n",
       "</div>"
      ],
      "text/plain": [
       "Empty DataFrame\n",
       "Columns: [Slytherin, Ravenclaw, Gryffindor, Hufflepuff]\n",
       "Index: []"
      ]
     },
     "execution_count": 36,
     "metadata": {},
     "output_type": "execute_result"
    }
   ],
   "source": [
    "result"
   ]
  },
  {
   "cell_type": "code",
   "execution_count": null,
   "id": "722fd3f8",
   "metadata": {},
   "outputs": [],
   "source": [
    "# for i in tqdm(range(nb_iterations)):\n",
    "\n",
    "w, b = updateWb(X, y_slytherin,y_ravenclaw, y_gryffindor, y_hufflepuff, w, b, lambda_, alpha)"
   ]
  },
  {
   "cell_type": "code",
   "execution_count": null,
   "id": "1895cd97",
   "metadata": {},
   "outputs": [
    {
     "data": {
      "text/html": [
       "<div>\n",
       "<style scoped>\n",
       "    .dataframe tbody tr th:only-of-type {\n",
       "        vertical-align: middle;\n",
       "    }\n",
       "\n",
       "    .dataframe tbody tr th {\n",
       "        vertical-align: top;\n",
       "    }\n",
       "\n",
       "    .dataframe thead th {\n",
       "        text-align: right;\n",
       "    }\n",
       "</style>\n",
       "<table border=\"1\" class=\"dataframe\">\n",
       "  <thead>\n",
       "    <tr style=\"text-align: right;\">\n",
       "      <th></th>\n",
       "      <th>b</th>\n",
       "    </tr>\n",
       "  </thead>\n",
       "  <tbody>\n",
       "    <tr>\n",
       "      <th>Slytherin</th>\n",
       "      <td>-0.095967</td>\n",
       "    </tr>\n",
       "    <tr>\n",
       "      <th>Ravenclaw</th>\n",
       "      <td>-0.065897</td>\n",
       "    </tr>\n",
       "    <tr>\n",
       "      <th>Gryffindor</th>\n",
       "      <td>-0.088215</td>\n",
       "    </tr>\n",
       "    <tr>\n",
       "      <th>Hufflepuff</th>\n",
       "      <td>-0.049922</td>\n",
       "    </tr>\n",
       "  </tbody>\n",
       "</table>\n",
       "</div>"
      ],
      "text/plain": [
       "                   b\n",
       "Slytherin  -0.095967\n",
       "Ravenclaw  -0.065897\n",
       "Gryffindor -0.088215\n",
       "Hufflepuff -0.049922"
      ]
     },
     "execution_count": 42,
     "metadata": {},
     "output_type": "execute_result"
    }
   ],
   "source": [
    "b"
   ]
  },
  {
   "cell_type": "code",
   "execution_count": null,
   "id": "cef9c460",
   "metadata": {},
   "outputs": [],
   "source": [
    "test = [1 , 2, 3, 4]"
   ]
  },
  {
   "cell_type": "code",
   "execution_count": null,
   "id": "ab481891",
   "metadata": {},
   "outputs": [],
   "source": [
    "a, b, c, d = test"
   ]
  },
  {
   "cell_type": "code",
   "execution_count": null,
   "id": "6e9420d8",
   "metadata": {},
   "outputs": [
    {
     "data": {
      "text/plain": [
       "1"
      ]
     },
     "execution_count": 45,
     "metadata": {},
     "output_type": "execute_result"
    }
   ],
   "source": [
    "a"
   ]
  },
  {
   "cell_type": "code",
   "execution_count": null,
   "id": "d81c991c",
   "metadata": {},
   "outputs": [
    {
     "data": {
      "text/plain": [
       "2"
      ]
     },
     "execution_count": 46,
     "metadata": {},
     "output_type": "execute_result"
    }
   ],
   "source": [
    "b"
   ]
  },
  {
   "cell_type": "code",
   "execution_count": null,
   "id": "ec1f194b",
   "metadata": {},
   "outputs": [
    {
     "data": {
      "text/plain": [
       "3"
      ]
     },
     "execution_count": 47,
     "metadata": {},
     "output_type": "execute_result"
    }
   ],
   "source": [
    "c"
   ]
  },
  {
   "cell_type": "code",
   "execution_count": null,
   "id": "d2d542fa",
   "metadata": {},
   "outputs": [
    {
     "data": {
      "text/plain": [
       "4"
      ]
     },
     "execution_count": 48,
     "metadata": {},
     "output_type": "execute_result"
    }
   ],
   "source": [
    "d"
   ]
  },
  {
   "cell_type": "code",
   "execution_count": 19,
   "id": "6dec3a79",
   "metadata": {},
   "outputs": [],
   "source": [
    "n = 12\n",
    "dj_dw = [np.zeros(n), np.zeros(n), np.zeros(n), np.zeros(n)]"
   ]
  },
  {
   "cell_type": "code",
   "execution_count": 20,
   "id": "d28d95fc",
   "metadata": {},
   "outputs": [
    {
     "data": {
      "text/plain": [
       "[array([0., 0., 0., 0., 0., 0., 0., 0., 0., 0., 0., 0.]),\n",
       " array([0., 0., 0., 0., 0., 0., 0., 0., 0., 0., 0., 0.]),\n",
       " array([0., 0., 0., 0., 0., 0., 0., 0., 0., 0., 0., 0.]),\n",
       " array([0., 0., 0., 0., 0., 0., 0., 0., 0., 0., 0., 0.])]"
      ]
     },
     "execution_count": 20,
     "metadata": {},
     "output_type": "execute_result"
    }
   ],
   "source": [
    "dj_dw"
   ]
  },
  {
   "cell_type": "code",
   "execution_count": 25,
   "id": "746fb1c2",
   "metadata": {},
   "outputs": [],
   "source": [
    "dj_dw[0][2] = 5"
   ]
  },
  {
   "cell_type": "code",
   "execution_count": 26,
   "id": "39a3ab09",
   "metadata": {},
   "outputs": [
    {
     "data": {
      "text/plain": [
       "[array([0., 0., 5., 0., 0., 0., 0., 0., 0., 0., 0., 0.]),\n",
       " array([0., 0., 0., 0., 0., 0., 0., 0., 0., 0., 0., 0.]),\n",
       " array([0., 0., 0., 0., 0., 0., 0., 0., 0., 0., 0., 0.]),\n",
       " array([0., 0., 0., 0., 0., 0., 0., 0., 0., 0., 0., 0.])]"
      ]
     },
     "execution_count": 26,
     "metadata": {},
     "output_type": "execute_result"
    }
   ],
   "source": [
    "dj_dw"
   ]
  },
  {
   "cell_type": "code",
   "execution_count": null,
   "id": "255f8221",
   "metadata": {},
   "outputs": [],
   "source": []
  }
 ],
 "metadata": {
  "kernelspec": {
   "display_name": "Python 3 (ipykernel)",
   "language": "python",
   "name": "python3"
  },
  "language_info": {
   "codemirror_mode": {
    "name": "ipython",
    "version": 3
   },
   "file_extension": ".py",
   "mimetype": "text/x-python",
   "name": "python",
   "nbconvert_exporter": "python",
   "pygments_lexer": "ipython3",
   "version": "3.10.13"
  }
 },
 "nbformat": 4,
 "nbformat_minor": 5
}
